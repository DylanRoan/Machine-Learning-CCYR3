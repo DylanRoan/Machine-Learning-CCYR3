{
 "cells": [
  {
   "cell_type": "markdown",
   "metadata": {},
   "source": [
    "1. Write a Python Function that accepts the radius of a circle as a parameter and calculates the area of the circle. Call this function with a radius value of your choice and print the output."
   ]
  },
  {
   "cell_type": "code",
   "execution_count": 2,
   "metadata": {},
   "outputs": [
    {
     "name": "stdout",
     "output_type": "stream",
     "text": [
      "--- Area of a Circle ---\n",
      "The area of the circle is: 452.38895999999994\n"
     ]
    }
   ],
   "source": [
    "print(\"--- Area of a Circle ---\")\n",
    "val = input(\"Please enter your radius: \")\n",
    "while not val.isdigit() and val != \"\":\n",
    "    val = input(\"Invalid input, please try again: \")\n",
    "val = int(val)\n",
    "\n",
    "def fun(h):\n",
    "    return 3.14159*h*h\n",
    "\n",
    "print(\"The area of the circle is:\", fun(val))"
   ]
  },
  {
   "cell_type": "markdown",
   "metadata": {},
   "source": [
    "2. Write a python program to accept word from user and then print that word in reverse."
   ]
  },
  {
   "cell_type": "code",
   "execution_count": 3,
   "metadata": {},
   "outputs": [
    {
     "name": "stdout",
     "output_type": "stream",
     "text": [
      "--- Word Reverser ---\n",
      "apshtab\n"
     ]
    }
   ],
   "source": [
    "print(\"--- Word Reverser ---\")\n",
    "val = input(\"Please enter a word: \")\n",
    "print(val[::-1])"
   ]
  },
  {
   "cell_type": "markdown",
   "metadata": {},
   "source": [
    "3. Write a python program to check whether the given number is even or odd."
   ]
  },
  {
   "cell_type": "code",
   "execution_count": 4,
   "metadata": {},
   "outputs": [
    {
     "name": "stdout",
     "output_type": "stream",
     "text": [
      "--- Odd or Even ---\n",
      "Your number is EVEN\n"
     ]
    }
   ],
   "source": [
    "print(\"--- Odd or Even ---\")\n",
    "val = input(\"Please enter your number: \")\n",
    "while not val.isdigit() and val != \"\":\n",
    "    val = input(\"Invalid input, please try again: \")\n",
    "val = int(val)\n",
    "\n",
    "print(\"Your number is\", \"EVEN\" if val % 2 == 0 else \"ODD\")"
   ]
  },
  {
   "cell_type": "markdown",
   "metadata": {},
   "source": [
    "4. Write a function to take an integer (minutes) and convert it into seconds."
   ]
  },
  {
   "cell_type": "code",
   "execution_count": 1,
   "metadata": {},
   "outputs": [
    {
     "name": "stdout",
     "output_type": "stream",
     "text": [
      "--- Minutes Into Seconds ---\n",
      "22 minutes is 1320 seconds!\n"
     ]
    }
   ],
   "source": [
    "print(\"--- Minutes Into Seconds ---\")\n",
    "val = input(\"Please enter your minutes: \")\n",
    "while not val.isdigit() and val != \"\":\n",
    "    val = input(\"Invalid input, please try again: \")\n",
    "val = int(val)\n",
    "\n",
    "def fun(m): \n",
    "    return m*60\n",
    "\n",
    "print(val,\"minutes is\",fun(val),\"seconds!\")"
   ]
  }
 ],
 "metadata": {
  "kernelspec": {
   "display_name": "Python 3",
   "language": "python",
   "name": "python3"
  },
  "language_info": {
   "codemirror_mode": {
    "name": "ipython",
    "version": 3
   },
   "file_extension": ".py",
   "mimetype": "text/x-python",
   "name": "python",
   "nbconvert_exporter": "python",
   "pygments_lexer": "ipython3",
   "version": "3.10.4"
  },
  "orig_nbformat": 4
 },
 "nbformat": 4,
 "nbformat_minor": 2
}
